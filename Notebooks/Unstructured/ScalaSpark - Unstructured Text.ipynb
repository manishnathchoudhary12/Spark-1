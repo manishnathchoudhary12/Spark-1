{
 "cells": [
  {
   "cell_type": "markdown",
   "metadata": {},
   "source": [
    "# ScalaSpark - Unstructured Text"
   ]
  },
  {
   "cell_type": "markdown",
   "metadata": {},
   "source": [
    "### Read in text file"
   ]
  },
  {
   "cell_type": "code",
   "execution_count": 2,
   "metadata": {
    "scrolled": true
   },
   "outputs": [
    {
     "data": {
      "text/plain": [
       "Array(\"The Project Gutenberg EBook of The Outline of Science, Vol. 1 (of 4), by \", J. Arthur Thomson, \"\", This eBook is for the use of anyone anywhere at no cost and with, almost no restrictions whatsoever.  You may copy it, give it away or)"
      ]
     },
     "execution_count": 2,
     "metadata": {},
     "output_type": "execute_result"
    }
   ],
   "source": [
    "val bookText = sc.textFile(\"hdfs://localhost:54310/user/andrew/books/pg20417.txt\")\n",
    "bookText.take(5)"
   ]
  },
  {
   "cell_type": "markdown",
   "metadata": {},
   "source": [
    "### Generate summary statistics"
   ]
  },
  {
   "cell_type": "code",
   "execution_count": 8,
   "metadata": {},
   "outputs": [
    {
     "name": "stdout",
     "output_type": "stream",
     "text": [
      "(12760,lines in book)\n",
      "124481.0\n",
      "66\n"
     ]
    }
   ],
   "source": [
    "//count number of lines\n",
    "println(bookText.count(), \"lines in book\")\n",
    "\n",
    "//count number of words\n",
    "val wordCounts = bookText.flatMap(line=>line.split(\" \")).map(word => (word,1)).reduceByKey((a,b)=>a+b)\n",
    "println(wordCounts.map(_._2).sum())\n",
    "\n",
    "//Longest line\n",
    "println(bookText.map(line => line.split(\" \").size).reduce((a,b)=> if (a>b) a else b))"
   ]
  },
  {
   "cell_type": "markdown",
   "metadata": {},
   "source": [
    "### Identify most popular words"
   ]
  },
  {
   "cell_type": "code",
   "execution_count": 10,
   "metadata": {},
   "outputs": [
    {
     "data": {
      "text/plain": [
       "Array((\"\",14637), (the,7906), (of,5425), (and,2759), (a,2422), (to,2168), (is,2068), (in,2048), (that,1273), (are,921), (it,912), (The,876), (which,793), (as,757), (be,663), (by,635), (on,631), (or,630), (we,601), (with,584), (from,571), (for,522), (have,472), (was,441), (there,434), (has,427), (an,409), (not,406), (It,402), (its,402))"
      ]
     },
     "execution_count": 10,
     "metadata": {},
     "output_type": "execute_result"
    }
   ],
   "source": [
    "val freqWords = wordCounts.sortBy(_._2, ascending=false) //rdd.sortBy(pair => pair._2)\n",
    "freqWords.take(30)"
   ]
  },
  {
   "cell_type": "markdown",
   "metadata": {},
   "source": [
    "### Other common word statistics"
   ]
  },
  {
   "cell_type": "code",
   "execution_count": 13,
   "metadata": {},
   "outputs": [
    {
     "name": "stdout",
     "output_type": "stream",
     "text": [
      "9\n"
     ]
    },
    {
     "data": {
      "text/plain": [
       "6.900277161862528"
      ]
     },
     "execution_count": 13,
     "metadata": {},
     "output_type": "execute_result"
    }
   ],
   "source": [
    "//Number of words that appear >1000 times\n",
    "println(freqWords.filter(pair => pair._2>1000).count())\n",
    "\n",
    "//Avg number of times a word appears\n",
    "wordCounts.map(_._2).sum()/wordCounts.count()"
   ]
  }
 ],
 "metadata": {
  "kernelspec": {
   "display_name": "Apache Toree - Scala",
   "language": "scala",
   "name": "apache_toree_scala"
  },
  "language_info": {
   "file_extension": ".scala",
   "name": "scala",
   "version": "2.11.8"
  }
 },
 "nbformat": 4,
 "nbformat_minor": 2
}
