{
 "cells": [
  {
   "cell_type": "markdown",
   "metadata": {},
   "source": [
    "# ScalaSpark - HMEQ  ML"
   ]
  },
  {
   "cell_type": "markdown",
   "metadata": {},
   "source": [
    "### Connect to Spark\n",
    "Read in data from HDFS"
   ]
  },
  {
   "cell_type": "code",
   "execution_count": 8,
   "metadata": {},
   "outputs": [
    {
     "name": "stdout",
     "output_type": "stream",
     "text": [
      "+---+----+-------+------+-------+------+----+-----+------+-----------+----+----+-----------+\n",
      "|BAD|LOAN|MORTDUE| VALUE| REASON|   JOB| YOJ|DEROG|DELINQ|      CLAGE|NINQ|CLNO|    DEBTINC|\n",
      "+---+----+-------+------+-------+------+----+-----+------+-----------+----+----+-----------+\n",
      "|  1|1100|  25860| 39025|HomeImp| Other|10.5|    0|     0|94.36666667|   1|   9|       null|\n",
      "|  1|1300|  70053| 68400|HomeImp| Other|   7|    0|     2|121.8333333|   0|  14|       null|\n",
      "|  1|1500|  13500| 16700|HomeImp| Other|   4|    0|     0|149.4666667|   1|  10|       null|\n",
      "|  1|1500|   null|  null|   null|  null|null| null|  null|       null|null|null|       null|\n",
      "|  0|1700|  97800|112000|HomeImp|Office|   3|    0|     0|93.33333333|   0|  14|       null|\n",
      "|  1|1700|  30548| 40320|HomeImp| Other|   9|    0|     0|101.4660019|   1|   8|37.11361356|\n",
      "|  1|1800|  48649| 57037|HomeImp| Other|   5|    3|     2|       77.1|   1|  17|       null|\n",
      "|  1|1800|  28502| 43034|HomeImp| Other|  11|    0|     0|88.76602988|   0|   8|36.88489409|\n",
      "|  1|2000|  32700| 46740|HomeImp| Other|   3|    0|     2|216.9333333|   1|  12|       null|\n",
      "|  1|2000|   null| 62250|HomeImp| Sales|  16|    0|     0|      115.8|   0|  13|       null|\n",
      "+---+----+-------+------+-------+------+----+-----+------+-----------+----+----+-----------+\n",
      "only showing top 10 rows\n",
      "\n"
     ]
    }
   ],
   "source": [
    "import org.apache.spark.sql.SparkSession\n",
    "\n",
    "//Create Spark Session\n",
    "val spark = SparkSession.builder().appName(\"simple\").getOrCreate()\n",
    "\n",
    "//Read in data\n",
    "val hmeq = spark.read.option(\"header\",\"true\").csv(\"/hadoop_work/data/HMEQ.csv\")\n",
    "hmeq.show(10)"
   ]
  },
  {
   "cell_type": "markdown",
   "metadata": {},
   "source": [
    "# Summary statistics"
   ]
  },
  {
   "cell_type": "code",
   "execution_count": 19,
   "metadata": {},
   "outputs": [
    {
     "data": {
      "text/plain": [
       "Array(BAD, LOAN, MORTDUE, VALUE)"
      ]
     },
     "execution_count": 19,
     "metadata": {},
     "output_type": "execute_result"
    }
   ],
   "source": [
    "hmeq.columns.slice(0,4)"
   ]
  },
  {
   "cell_type": "code",
   "execution_count": 35,
   "metadata": {},
   "outputs": [
    {
     "data": {
      "text/plain": [
       "List(BAD, LOAN, MORTDUE, VALUE)"
      ]
     },
     "execution_count": 35,
     "metadata": {},
     "output_type": "execute_result"
    }
   ],
   "source": [
    "hmeq.columns.slice(0,4).toList"
   ]
  },
  {
   "cell_type": "code",
   "execution_count": 41,
   "metadata": {},
   "outputs": [
    {
     "name": "stdout",
     "output_type": "stream",
     "text": [
      "+-------+-----------------+------------------+------------------+------------------+\n",
      "|summary|              BAD|              LOAN|           MORTDUE|             VALUE|\n",
      "+-------+-----------------+------------------+------------------+------------------+\n",
      "|  count|             5960|              5960|              5442|              5848|\n",
      "|   mean|0.199496644295302| 18607.96979865772| 73760.81719955898|101776.04874145007|\n",
      "| stddev|0.399655517450269|11207.480416693992|44457.609458415885|  57385.7753337027|\n",
      "|    min|                0|             10000|             10000|            100000|\n",
      "|    max|                1|              9900|              9999|             99997|\n",
      "+-------+-----------------+------------------+------------------+------------------+\n",
      "\n"
     ]
    }
   ],
   "source": [
    "hmeq.describe(\"BAD\", \"LOAN\", \"MORTDUE\", \"VALUE\").show()"
   ]
  },
  {
   "cell_type": "code",
   "execution_count": 44,
   "metadata": {
    "scrolled": true
   },
   "outputs": [
    {
     "name": "stdout",
     "output_type": "stream",
     "text": [
      "+-------+----+-----------------+------------------+------------------+\n",
      "|summary| JOB|              YOJ|             DEROG|            DELINQ|\n",
      "+-------+----+-----------------+------------------+------------------+\n",
      "|  count|5681|             5445|              5252|              5380|\n",
      "|   mean|null|8.922268135904508|0.2545696877380046|0.4494423791821561|\n",
      "| stddev|null|7.573982248898881| 0.846046777086318|1.1272659176049744|\n",
      "|    min| Mgr|                0|                 0|                 0|\n",
      "|    max|Self|              9.9|                 9|                 8|\n",
      "+-------+----+-----------------+------------------+------------------+\n",
      "\n"
     ]
    }
   ],
   "source": [
    "hmeq.describe(\"JOB\", \"YOJ\", \"DEROG\", \"DELINQ\").show()"
   ]
  },
  {
   "cell_type": "code",
   "execution_count": 48,
   "metadata": {},
   "outputs": [
    {
     "name": "stdout",
     "output_type": "stream",
     "text": [
      "+-------+-----------------+------------------+------------------+-----------------+\n",
      "|summary|            CLAGE|              NINQ|              CLNO|          DEBTINC|\n",
      "+-------+-----------------+------------------+------------------+-----------------+\n",
      "|  count|             5652|              5450|              5738|             4693|\n",
      "|   mean|179.7662751868336|1.1860550458715597| 21.29609620076682|33.77991534872161|\n",
      "| stddev|85.81009176264283|1.7286749712080534|10.138933192458637|8.601746186462469|\n",
      "|    min|                0|                 0|                 0|      0.524499215|\n",
      "|    max|      99.99378982|                 9|                 9|      91.61259998|\n",
      "+-------+-----------------+------------------+------------------+-----------------+\n",
      "\n"
     ]
    }
   ],
   "source": [
    "hmeq.describe(\"CLAGE\", \"NINQ\", \"CLNO\", \"DEBTINC\").show()"
   ]
  }
 ],
 "metadata": {
  "kernelspec": {
   "display_name": "Apache Toree - Scala",
   "language": "scala",
   "name": "apache_toree_scala"
  },
  "language_info": {
   "file_extension": ".scala",
   "name": "scala",
   "version": "2.11.8"
  }
 },
 "nbformat": 4,
 "nbformat_minor": 2
}
