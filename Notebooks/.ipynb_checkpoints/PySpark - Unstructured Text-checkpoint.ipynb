{
 "cells": [
  {
   "cell_type": "markdown",
   "metadata": {},
   "source": [
    "# PySpark - Unstructured Text"
   ]
  },
  {
   "cell_type": "markdown",
   "metadata": {},
   "source": [
    "### Read in Text File"
   ]
  },
  {
   "cell_type": "code",
   "execution_count": 1,
   "metadata": {
    "collapsed": false
   },
   "outputs": [
    {
     "data": {
      "text/plain": [
       "[u'The Project Gutenberg EBook of The Notebooks of Leonardo Da Vinci, Complete', u'by Leonardo Da Vinci', u'(#3 in our series by Leonardo Da Vinci)', u'', u'Copyright laws are changing all over the world. Be sure to check the']"
      ]
     },
     "execution_count": 1,
     "metadata": {},
     "output_type": "execute_result"
    }
   ],
   "source": [
    "from operator import add\n",
    "\n",
    "bookText = sc.textFile('/hadoop_work/books/5000-8.txt')\n",
    "bookText.take(5)"
   ]
  },
  {
   "cell_type": "markdown",
   "metadata": {},
   "source": [
    "### Generate Summary Statistics"
   ]
  },
  {
   "cell_type": "code",
   "execution_count": 2,
   "metadata": {
    "collapsed": false
   },
   "outputs": [
    {
     "name": "stdout",
     "output_type": "stream",
     "text": [
      "32763 - Whole Text Line Count\n",
      "252100- Number of Words\n",
      "6 - Number of times Ship Appears\n",
      "[u'Ships broken to pieces, beaten on rocks.', u'*( Of Sailing in Ships. )*'] - Number of times Ship Appears\n"
     ]
    }
   ],
   "source": [
    "#Count number of lines\n",
    "print bookText.count(), '- Whole Text Line Count'\n",
    "\n",
    "#Count Number of Words\n",
    "wCounts = bookText.flatMap(lambda line: line.split()).map(lambda uWord: (uWord,1))\n",
    "print wCounts.reduceByKey(add).values().sum(), '- Number of Words'\n",
    "\n",
    "#Count lines with 'Ship'\n",
    "linesWithShip = bookText.filter(lambda line: \"Ship\" in line)\n",
    "print linesWithShip.count(), '- Number of times Ship Appears' \n",
    "print linesWithShip.take(2), '- Number of times Ship Appears'"
   ]
  },
  {
   "cell_type": "markdown",
   "metadata": {},
   "source": [
    "### Identify Most Popular Words"
   ]
  },
  {
   "cell_type": "code",
   "execution_count": 3,
   "metadata": {
    "collapsed": false
   },
   "outputs": [
    {
     "data": {
      "text/plain": [
       "[(u'the', 20583), (u'of', 10388), (u'and', 7611), (u'in', 5226), (u'to', 5079), (u'is', 4097), (u'a', 3797), (u'that', 2668), (u'it', 2387), (u'which', 2387), (u'as', 2117), (u'by', 2050), (u'be', 2037), (u'on', 1860), (u'with', 1713), (u'are', 1636), (u'The', 1573), (u'will', 1566), (u'from', 1562), (u'this', 1535), (u'at', 1460), (u'not', 1119), (u'you', 1063), (u'for', 1060), (u'have', 903), (u'or', 833), (u'its', 818), (u'his', 800), (u'I', 775), (u'they', 772)]"
      ]
     },
     "execution_count": 3,
     "metadata": {},
     "output_type": "execute_result"
    }
   ],
   "source": [
    "common_words=wCounts.reduceByKey(lambda a,b: a+b).sortBy(lambda pair: pair[1],ascending=False)\n",
    "common_words.take(30)"
   ]
  },
  {
   "cell_type": "markdown",
   "metadata": {},
   "source": [
    "### Other Common Word Statistics"
   ]
  },
  {
   "cell_type": "code",
   "execution_count": 14,
   "metadata": {
    "collapsed": false
   },
   "outputs": [
    {
     "name": "stdout",
     "output_type": "stream",
     "text": [
      "24  Words appear > 1000 times\n",
      "7  average number of times each word appears\n"
     ]
    }
   ],
   "source": [
    "#Greater than  1000 Times\n",
    "print common_words.filter(lambda pair: pair[1]>1000).count(), ' Words appear > 1000 times'\n",
    "\n",
    "print common_words.reduceByKey(add).values().sum()/common_words.count(), ' average number of times each word appears'"
   ]
  }
 ],
 "metadata": {
  "kernelspec": {
   "display_name": "Python 3",
   "language": "python",
   "name": "python3"
  },
  "language_info": {
   "codemirror_mode": {
    "name": "ipython",
    "version": 3
   },
   "file_extension": ".py",
   "mimetype": "text/x-python",
   "name": "python",
   "nbconvert_exporter": "python",
   "pygments_lexer": "ipython3",
   "version": "3.5.2"
  }
 },
 "nbformat": 4,
 "nbformat_minor": 2
}
