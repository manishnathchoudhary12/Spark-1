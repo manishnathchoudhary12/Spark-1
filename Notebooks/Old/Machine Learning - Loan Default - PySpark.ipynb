{
 "cells": [
  {
   "cell_type": "markdown",
   "metadata": {},
   "source": [
    "## HMEQ Data Mining - PySpark"
   ]
  },
  {
   "cell_type": "markdown",
   "metadata": {},
   "source": [
    "### Connect to Spark\n",
    "Read in Data from Hadoop"
   ]
  },
  {
   "cell_type": "code",
   "execution_count": 2,
   "metadata": {
    "collapsed": true
   },
   "outputs": [],
   "source": [
    "from pyspark.sql import SparkSession\n",
    "from pyspark.sql.functions import col, sum\n",
    "from matplotlib import pyplot as plt\n",
    "import pandas as pd\n",
    "\n",
    "#Create Spark Session\n",
    "spark=SparkSession.builder.appName(\"simple\").getOrCreate()\n",
    "\n",
    "#Read in text file from HDFS\n",
    "HMEQ = spark.read.csv('hdfs://localhost:54310/user/andrew/data/HMEQ.csv', header=True)"
   ]
  },
  {
   "cell_type": "markdown",
   "metadata": {},
   "source": [
    "### See Head of the Data"
   ]
  },
  {
   "cell_type": "code",
   "execution_count": 3,
   "metadata": {},
   "outputs": [
    {
     "name": "stdout",
     "output_type": "stream",
     "text": [
      "+---+----+-------+------+-------+------+----+-----+------+-----------+----+----+-----------+\n",
      "|BAD|LOAN|MORTDUE| VALUE| REASON|   JOB| YOJ|DEROG|DELINQ|      CLAGE|NINQ|CLNO|    DEBTINC|\n",
      "+---+----+-------+------+-------+------+----+-----+------+-----------+----+----+-----------+\n",
      "|  1|1100|  25860| 39025|HomeImp| Other|10.5|    0|     0|94.36666667|   1|   9|       null|\n",
      "|  1|1300|  70053| 68400|HomeImp| Other|   7|    0|     2|121.8333333|   0|  14|       null|\n",
      "|  1|1500|  13500| 16700|HomeImp| Other|   4|    0|     0|149.4666667|   1|  10|       null|\n",
      "|  1|1500|   null|  null|   null|  null|null| null|  null|       null|null|null|       null|\n",
      "|  0|1700|  97800|112000|HomeImp|Office|   3|    0|     0|93.33333333|   0|  14|       null|\n",
      "|  1|1700|  30548| 40320|HomeImp| Other|   9|    0|     0|101.4660019|   1|   8|37.11361356|\n",
      "|  1|1800|  48649| 57037|HomeImp| Other|   5|    3|     2|       77.1|   1|  17|       null|\n",
      "|  1|1800|  28502| 43034|HomeImp| Other|  11|    0|     0|88.76602988|   0|   8|36.88489409|\n",
      "|  1|2000|  32700| 46740|HomeImp| Other|   3|    0|     2|216.9333333|   1|  12|       null|\n",
      "|  1|2000|   null| 62250|HomeImp| Sales|  16|    0|     0|      115.8|   0|  13|       null|\n",
      "+---+----+-------+------+-------+------+----+-----+------+-----------+----+----+-----------+\n",
      "only showing top 10 rows\n",
      "\n"
     ]
    }
   ],
   "source": [
    "HMEQ.show(10)\n",
    "#HMEQ.select('BAD').show() one column"
   ]
  },
  {
   "cell_type": "markdown",
   "metadata": {},
   "source": [
    "### Summary Statistics"
   ]
  },
  {
   "cell_type": "code",
   "execution_count": 4,
   "metadata": {},
   "outputs": [
    {
     "name": "stdout",
     "output_type": "stream",
     "text": [
      "+-------+-----------------+------------------+------------------+------------------+-------+----+-----------------+\n",
      "|summary|              BAD|              LOAN|           MORTDUE|             VALUE| REASON| JOB|              YOJ|\n",
      "+-------+-----------------+------------------+------------------+------------------+-------+----+-----------------+\n",
      "|  count|             5960|              5960|              5442|              5848|   5708|5681|             5445|\n",
      "|   mean|0.199496644295302| 18607.96979865772| 73760.81719955898|101776.04874145007|   null|null|8.922268135904508|\n",
      "| stddev|0.399655517450269|11207.480416693992|44457.609458415885|  57385.7753337027|   null|null|7.573982248898881|\n",
      "|    min|                0|             10000|             10000|            100000|DebtCon| Mgr|                0|\n",
      "|    max|                1|              9900|              9999|             99997|HomeImp|Self|              9.9|\n",
      "+-------+-----------------+------------------+------------------+------------------+-------+----+-----------------+\n",
      "\n"
     ]
    }
   ],
   "source": [
    "HMEQ.describe(HMEQ.columns[0:7]).show()"
   ]
  },
  {
   "cell_type": "code",
   "execution_count": 5,
   "metadata": {},
   "outputs": [
    {
     "name": "stdout",
     "output_type": "stream",
     "text": [
      "+-------+------------------+------------------+-----------------+------------------+------------------+-----------------+\n",
      "|summary|             DEROG|            DELINQ|            CLAGE|              NINQ|              CLNO|          DEBTINC|\n",
      "+-------+------------------+------------------+-----------------+------------------+------------------+-----------------+\n",
      "|  count|              5252|              5380|             5652|              5450|              5738|             4693|\n",
      "|   mean|0.2545696877380046|0.4494423791821561|179.7662751868336|1.1860550458715597| 21.29609620076682|33.77991534872161|\n",
      "| stddev| 0.846046777086318|1.1272659176049744|85.81009176264283|1.7286749712080534|10.138933192458637|8.601746186462469|\n",
      "|    min|                 0|                 0|                0|                 0|                 0|      0.524499215|\n",
      "|    max|                 9|                 8|      99.99378982|                 9|                 9|      91.61259998|\n",
      "+-------+------------------+------------------+-----------------+------------------+------------------+-----------------+\n",
      "\n"
     ]
    }
   ],
   "source": [
    "HMEQ.describe(HMEQ.columns[7:len(HMEQ.columns)]).show()"
   ]
  },
  {
   "cell_type": "markdown",
   "metadata": {},
   "source": [
    "### Count Missing"
   ]
  },
  {
   "cell_type": "code",
   "execution_count": 6,
   "metadata": {},
   "outputs": [
    {
     "name": "stdout",
     "output_type": "stream",
     "text": [
      "+---+----+-------+-----+------+---+---+-----+------+-----+----+----+-------+\n",
      "|BAD|LOAN|MORTDUE|VALUE|REASON|JOB|YOJ|DEROG|DELINQ|CLAGE|NINQ|CLNO|DEBTINC|\n",
      "+---+----+-------+-----+------+---+---+-----+------+-----+----+----+-------+\n",
      "|  0|   0|    518|  112|   252|279|515|  708|   580|  308| 510| 222|   1267|\n",
      "+---+----+-------+-----+------+---+---+-----+------+-----+----+----+-------+\n",
      "\n"
     ]
    }
   ],
   "source": [
    "def null_count(column):\n",
    "    return sum(col(column).isNull().cast(\"integer\")).alias(column)\n",
    "\n",
    "null_ct = [null_count(column) for column in HMEQ.columns]\n",
    "HMEQ.agg(*null_ct).show()"
   ]
  },
  {
   "cell_type": "markdown",
   "metadata": {},
   "source": [
    "### Plot missing values"
   ]
  },
  {
   "cell_type": "code",
   "execution_count": 7,
   "metadata": {
    "collapsed": true
   },
   "outputs": [],
   "source": [
    "#Bring to pandas\n",
    "df = HMEQ.agg(*null_ct).toPandas()\n",
    "\n",
    "#Plot\n",
    "tbl_foreplot = pd.Series(list(df.values[0]), index=list(df.columns))\n",
    "missing_val = tbl_foreplot.plot(kind='bar', title='% Missing', color='c', figsize=(10,6))\n",
    "missing_val.set_ylabel(\"Percent Missing\")\n",
    "missing_val.set_xlabel(\"Variable Names\")\n",
    "plt.show()"
   ]
  },
  {
   "cell_type": "markdown",
   "metadata": {},
   "source": [
    "### Split into Training and Validation"
   ]
  },
  {
   "cell_type": "code",
   "execution_count": 14,
   "metadata": {},
   "outputs": [
    {
     "name": "stdout",
     "output_type": "stream",
     "text": [
      "+---+-----+-------+------+-------+-------+----+-----+------+-----------+----+----+-----------+\n",
      "|BAD| LOAN|MORTDUE| VALUE| REASON|    JOB| YOJ|DEROG|DELINQ|      CLAGE|NINQ|CLNO|    DEBTINC|\n",
      "+---+-----+-------+------+-------+-------+----+-----+------+-----------+----+----+-----------+\n",
      "|  0|10000|   null| 42497|HomeImp|    Mgr|   6| null|  null|165.4333333|null|   9|       null|\n",
      "|  0|10000|   null| 49266|   null|   null|null| null|  null|       null|null|null|15.59729023|\n",
      "|  0|10000|   null| 56475|HomeImp|  Other|   9|    2|     0|309.2644975|   2|  12|34.48718804|\n",
      "|  0|10000|   null| 69502|   null|   null|null| null|  null|       null|null|null|25.77278284|\n",
      "|  0|10000| 114643|130127|DebtCon|   Self|   5|    0|     1|160.6678931|   0|  19|33.92004439|\n",
      "|  0|10000| 124000|192000|HomeImp| Office|   0|    0|     1|346.9666667|   0|  16|       null|\n",
      "|  0|10000| 127319|194992|HomeImp| Office|   1|    0|     1|337.6899717|   0|  16|41.44750595|\n",
      "|  0|10000| 131589|156000|HomeImp|ProfExe|   5|    0|     1|419.0333333|   1|  43|       null|\n",
      "|  0|10000|  31000| 58240|DebtCon|    Mgr|null| null|  null|       null|null|null|       null|\n",
      "|  0|10000|  32000| 59000|DebtCon| Office|  24|    0|     1|232.3333333|   1|  29|       null|\n",
      "|  0|10000|  41949| 51684|DebtCon|  Other|  15|    0|     0|84.12345095|   0|  12|31.26731878|\n",
      "|  0|10000|  48041| 76050|HomeImp|  Other|   3|    0|     2|      185.7|   0|  13|       null|\n",
      "|  0|10000|  48769| 65328|DebtCon| Office|   4|    0|     1|104.6952407|   3|  12|39.04935922|\n",
      "|  0|10000|  57068| 72000|   null|  Other|  12|    0|     0|      257.7|   0|  27|       null|\n",
      "|  0|10000|  59764| 77870|DebtCon|  Sales|   7|    0|     0|      136.9|   0|  35|       null|\n",
      "|  0|10000|  59828| 72489|DebtCon|   null|  18|    0|     0|157.2436625|   1|  11|31.62682193|\n",
      "|  0|10000|  64320|102375|DebtCon| Office|  10|    0|     0|148.1666667|   1|  13|       null|\n",
      "|  0|10000|  66000| 89145|DebtCon| Office|   9|    0|     0|215.0333333|   3|  29|       null|\n",
      "|  0|10000|  68807| 76581|HomeImp| Office|  14|    0|     0|237.6478941|   0|  32|42.33557351|\n",
      "|  0|10000|  71000| 97875|HomeImp|ProfExe|   8|    0|     0|165.7148936|   0|  34|       null|\n",
      "+---+-----+-------+------+-------+-------+----+-----+------+-----------+----+----+-----------+\n",
      "only showing top 20 rows\n",
      "\n",
      "(4137, 1823, 5960)\n"
     ]
    }
   ],
   "source": [
    "(HMEQ_train, HMEQ_valid) = HMEQ.randomSplit([.7,.3], seed=240)\n",
    "HMEQ_train.show()\n",
    "print(HMEQ_train.count(), HMEQ_valid.count(), HMEQ.count())"
   ]
  },
  {
   "cell_type": "code",
   "execution_count": 10,
   "metadata": {},
   "outputs": [
    {
     "data": {
      "text/plain": [
       "4137"
      ]
     },
     "execution_count": 10,
     "metadata": {},
     "output_type": "execute_result"
    }
   ],
   "source": []
  }
 ],
 "metadata": {
  "kernelspec": {
   "display_name": "Apache Toree - PySpark",
   "language": "python",
   "name": "apache_toree_pyspark"
  },
  "language_info": {
   "file_extension": ".py",
   "name": "python",
   "pygments_lexer": "python",
   "version": "2.7.12\n"
  }
 },
 "nbformat": 4,
 "nbformat_minor": 2
}
