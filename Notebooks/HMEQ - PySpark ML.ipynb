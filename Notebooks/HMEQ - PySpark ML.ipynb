{
 "cells": [
  {
   "cell_type": "markdown",
   "metadata": {},
   "source": [
    "## HMEQ Data Mining - PySpark"
   ]
  },
  {
   "cell_type": "markdown",
   "metadata": {},
   "source": [
    "### Connect to Spark\n",
    "Read in Data from Hadoop"
   ]
  },
  {
   "cell_type": "code",
   "execution_count": 20,
   "metadata": {},
   "outputs": [],
   "source": [
    "from pyspark.sql import SparkSession\n",
    "from pyspark.sql.functions import col, sum\n",
    "from pyspark.ml.feature import OneHotEncoder, StringIndexer, VectorAssembler\n",
    "from pyspark.ml import Pipeline\n",
    "from pyspark.ml.classification import RandomForestClassifier\n",
    "from pyspark.ml.evaluation import BinaryClassificationEvaluator\n",
    "from matplotlib import pyplot as plt\n",
    "import pandas as pd\n",
    "\n",
    "#Create Spark Session\n",
    "spark=SparkSession.builder.appName(\"simple\").getOrCreate()\n",
    "\n",
    "#Read in text file from HDFS\n",
    "HMEQ = spark.read.csv('hdfs://localhost:54310/user/andrew/data/HMEQ.csv', header=True)"
   ]
  },
  {
   "cell_type": "code",
   "execution_count": 2,
   "metadata": {
    "scrolled": true
   },
   "outputs": [
    {
     "name": "stdout",
     "output_type": "stream",
     "text": [
      "+---+----+-------+------+-------+------+----+-----+------+-----------+----+----+-----------+\n",
      "|BAD|LOAN|MORTDUE| VALUE| REASON|   JOB| YOJ|DEROG|DELINQ|      CLAGE|NINQ|CLNO|    DEBTINC|\n",
      "+---+----+-------+------+-------+------+----+-----+------+-----------+----+----+-----------+\n",
      "|  1|1100|  25860| 39025|HomeImp| Other|10.5|    0|     0|94.36666667|   1|   9|       null|\n",
      "|  1|1300|  70053| 68400|HomeImp| Other|   7|    0|     2|121.8333333|   0|  14|       null|\n",
      "|  1|1500|  13500| 16700|HomeImp| Other|   4|    0|     0|149.4666667|   1|  10|       null|\n",
      "|  1|1500|   null|  null|   null|  null|null| null|  null|       null|null|null|       null|\n",
      "|  0|1700|  97800|112000|HomeImp|Office|   3|    0|     0|93.33333333|   0|  14|       null|\n",
      "|  1|1700|  30548| 40320|HomeImp| Other|   9|    0|     0|101.4660019|   1|   8|37.11361356|\n",
      "|  1|1800|  48649| 57037|HomeImp| Other|   5|    3|     2|       77.1|   1|  17|       null|\n",
      "|  1|1800|  28502| 43034|HomeImp| Other|  11|    0|     0|88.76602988|   0|   8|36.88489409|\n",
      "|  1|2000|  32700| 46740|HomeImp| Other|   3|    0|     2|216.9333333|   1|  12|       null|\n",
      "|  1|2000|   null| 62250|HomeImp| Sales|  16|    0|     0|      115.8|   0|  13|       null|\n",
      "+---+----+-------+------+-------+------+----+-----+------+-----------+----+----+-----------+\n",
      "only showing top 10 rows\n",
      "\n"
     ]
    }
   ],
   "source": [
    "HMEQ.show(10)\n",
    "#HMEQ.select('BAD').show() one column"
   ]
  },
  {
   "cell_type": "markdown",
   "metadata": {},
   "source": [
    "### Summary Statistics"
   ]
  },
  {
   "cell_type": "code",
   "execution_count": 3,
   "metadata": {},
   "outputs": [
    {
     "name": "stdout",
     "output_type": "stream",
     "text": [
      "+-------+-----------------+------------------+------------------+------------------+\n",
      "|summary|              BAD|              LOAN|           MORTDUE|             VALUE|\n",
      "+-------+-----------------+------------------+------------------+------------------+\n",
      "|  count|             5960|              5960|              5442|              5848|\n",
      "|   mean|0.199496644295302| 18607.96979865772| 73760.81719955898|101776.04874145007|\n",
      "| stddev|0.399655517450269|11207.480416693992|44457.609458415885|  57385.7753337027|\n",
      "|    min|                0|             10000|             10000|            100000|\n",
      "|    max|                1|              9900|              9999|             99997|\n",
      "+-------+-----------------+------------------+------------------+------------------+\n",
      "\n"
     ]
    }
   ],
   "source": [
    "HMEQ.describe(HMEQ.columns[0:4]).show()"
   ]
  },
  {
   "cell_type": "code",
   "execution_count": 4,
   "metadata": {},
   "outputs": [
    {
     "name": "stdout",
     "output_type": "stream",
     "text": [
      "+-------+-------+----+-----------------+------------------+------------------+\n",
      "|summary| REASON| JOB|              YOJ|             DEROG|            DELINQ|\n",
      "+-------+-------+----+-----------------+------------------+------------------+\n",
      "|  count|   5708|5681|             5445|              5252|              5380|\n",
      "|   mean|   null|null|8.922268135904508|0.2545696877380046|0.4494423791821561|\n",
      "| stddev|   null|null|7.573982248898881| 0.846046777086318|1.1272659176049744|\n",
      "|    min|DebtCon| Mgr|                0|                 0|                 0|\n",
      "|    max|HomeImp|Self|              9.9|                 9|                 8|\n",
      "+-------+-------+----+-----------------+------------------+------------------+\n",
      "\n"
     ]
    }
   ],
   "source": [
    "HMEQ.describe(HMEQ.columns[4:9]).show()"
   ]
  },
  {
   "cell_type": "code",
   "execution_count": 5,
   "metadata": {},
   "outputs": [
    {
     "name": "stdout",
     "output_type": "stream",
     "text": [
      "+-------+-----------------+------------------+------------------+-----------------+\n",
      "|summary|            CLAGE|              NINQ|              CLNO|          DEBTINC|\n",
      "+-------+-----------------+------------------+------------------+-----------------+\n",
      "|  count|             5652|              5450|              5738|             4693|\n",
      "|   mean|179.7662751868336|1.1860550458715597| 21.29609620076682|33.77991534872161|\n",
      "| stddev|85.81009176264283|1.7286749712080534|10.138933192458637|8.601746186462469|\n",
      "|    min|                0|                 0|                 0|      0.524499215|\n",
      "|    max|      99.99378982|                 9|                 9|      91.61259998|\n",
      "+-------+-----------------+------------------+------------------+-----------------+\n",
      "\n"
     ]
    }
   ],
   "source": [
    "HMEQ.describe(HMEQ.columns[9:len(HMEQ.columns)]).show()"
   ]
  },
  {
   "cell_type": "markdown",
   "metadata": {},
   "source": [
    "### Count Missing"
   ]
  },
  {
   "cell_type": "code",
   "execution_count": 6,
   "metadata": {},
   "outputs": [
    {
     "name": "stdout",
     "output_type": "stream",
     "text": [
      "+---+----+-------+-----+------+---+---+-----+------+-----+----+----+-------+\n",
      "|BAD|LOAN|MORTDUE|VALUE|REASON|JOB|YOJ|DEROG|DELINQ|CLAGE|NINQ|CLNO|DEBTINC|\n",
      "+---+----+-------+-----+------+---+---+-----+------+-----+----+----+-------+\n",
      "|  0|   0|    518|  112|   252|279|515|  708|   580|  308| 510| 222|   1267|\n",
      "+---+----+-------+-----+------+---+---+-----+------+-----+----+----+-------+\n",
      "\n"
     ]
    }
   ],
   "source": [
    "def null_count(column):\n",
    "    return sum(col(column).isNull().cast(\"integer\")).alias(column)\n",
    "\n",
    "null_ct = [null_count(column) for column in HMEQ.columns]\n",
    "HMEQ.agg(*null_ct).show()"
   ]
  },
  {
   "cell_type": "markdown",
   "metadata": {},
   "source": [
    "### Plot missing values"
   ]
  },
  {
   "cell_type": "code",
   "execution_count": 7,
   "metadata": {
    "collapsed": true
   },
   "outputs": [],
   "source": [
    "#Bring to pandas\n",
    "df = HMEQ.agg(*null_ct).toPandas()\n",
    "\n",
    "#Plot\n",
    "tbl_foreplot = pd.Series(list(df.values[0]), index=list(df.columns))\n",
    "missing_val = tbl_foreplot.plot(kind='bar', title='% Missing', color='c', figsize=(10,6))\n",
    "missing_val.set_ylabel(\"Percent Missing\")\n",
    "missing_val.set_xlabel(\"Variable Names\")\n",
    "plt.show()"
   ]
  },
  {
   "cell_type": "markdown",
   "metadata": {},
   "source": [
    "### Convert Numeric into Double"
   ]
  },
  {
   "cell_type": "code",
   "execution_count": 10,
   "metadata": {
    "collapsed": true
   },
   "outputs": [],
   "source": [
    "character_cols=['REASON','JOB']\n",
    "numeric_cols= [column for column in HMEQ.columns if column not in character_cols + ['BAD']]\n",
    "for col in numeric_cols:\n",
    "    HMEQ = HMEQ.withColumn(col, HMEQ[col].cast(\"Double\"))"
   ]
  },
  {
   "cell_type": "markdown",
   "metadata": {},
   "source": [
    "### Treat Character Variables"
   ]
  },
  {
   "cell_type": "code",
   "execution_count": 11,
   "metadata": {},
   "outputs": [
    {
     "name": "stdout",
     "output_type": "stream",
     "text": [
      "REASONindex\n",
      "JOBindex\n"
     ]
    }
   ],
   "source": [
    "for a in character_cols:\n",
    "    print a+\"index\""
   ]
  },
  {
   "cell_type": "code",
   "execution_count": 12,
   "metadata": {
    "collapsed": true
   },
   "outputs": [],
   "source": [
    "#Drop nulls temporarily - will add imputer\n",
    "HMEQ = HMEQ.na.drop()\n",
    "\n",
    "stages=[]\n",
    "#Create dummy variables\n",
    "for char_col in character_cols:\n",
    "    stringIndexer = StringIndexer(inputCol=char_col, outputCol=char_col+\"Index\")\n",
    "    encoder = OneHotEncoder(inputCol=char_col+\"Index\", outputCol=char_col+\"classVec\")\n",
    "    stages += [stringIndexer, encoder]"
   ]
  },
  {
   "cell_type": "markdown",
   "metadata": {},
   "source": [
    "### Prepare Pipeline"
   ]
  },
  {
   "cell_type": "code",
   "execution_count": 13,
   "metadata": {
    "scrolled": true
   },
   "outputs": [],
   "source": [
    "### Add label for target outcome\n",
    "label_target = StringIndexer(inputCol='BAD', outputCol='label')\n",
    "stages += [label_target]\n",
    "\n",
    "#Create a input vector\n",
    "vectorInputs=[column+'classVec' for column in character_cols] + numeric_cols\n",
    "vectorInputs=numeric_cols\n",
    "assembler = VectorAssembler(inputCols=vectorInputs, outputCol=\"features_indep_var\")\n",
    "stages += [assembler]\n",
    "\n",
    "#Create  a pipeline\n",
    "pipeline = Pipeline(stages=stages) \n",
    "model = pipeline.fit(HMEQ) #Compute transformations\n",
    "model_dataset = model.transform(HMEQ) #Apply transformations to new dataset\n",
    "\n",
    "#Drop columns not needed\n",
    "keepCols=['label', 'features_indep_var'] + HMEQ.columns\n",
    "HMEQ_prepped = model_dataset.select(keepCols)\n",
    "\n"
   ]
  },
  {
   "cell_type": "markdown",
   "metadata": {},
   "source": [
    "### Split into Training and Validation"
   ]
  },
  {
   "cell_type": "code",
   "execution_count": 35,
   "metadata": {},
   "outputs": [
    {
     "data": {
      "text/plain": [
       "['BAD', 'LOAN', 'MORTDUE', 'VALUE', 'REASON', 'JOB', 'YOJ', 'DEROG', 'DELINQ', 'CLAGE', 'NINQ', 'CLNO', 'DEBTINC']"
      ]
     },
     "execution_count": 35,
     "metadata": {},
     "output_type": "execute_result"
    }
   ],
   "source": [
    "HMEQ.columns"
   ]
  },
  {
   "cell_type": "code",
   "execution_count": 36,
   "metadata": {},
   "outputs": [
    {
     "name": "stdout",
     "output_type": "stream",
     "text": [
      "+-----+--------------------+---+------+--------+--------+-------+-------+\n",
      "|label|  features_indep_var|BAD|  LOAN| MORTDUE|   VALUE| REASON|    JOB|\n",
      "+-----+--------------------+---+------+--------+--------+-------+-------+\n",
      "|  0.0|[2400.0,98449.0,1...|  0|2400.0| 98449.0|117195.0|HomeImp| Office|\n",
      "|  0.0|[2900.0,103949.0,...|  0|2900.0|103949.0|112505.0|HomeImp| Office|\n",
      "|  0.0|[2900.0,104373.0,...|  0|2900.0|104373.0|120702.0|HomeImp| Office|\n",
      "|  0.0|[3000.0,104570.0,...|  0|3000.0|104570.0|121729.0|HomeImp| Office|\n",
      "|  0.0|[3600.0,52337.0,6...|  0|3600.0| 52337.0| 63989.0|HomeImp| Office|\n",
      "|  0.0|[3600.0,100693.0,...|  0|3600.0|100693.0|114743.0|HomeImp| Office|\n",
      "|  0.0|[3800.0,51180.0,6...|  0|3800.0| 51180.0| 63459.0|HomeImp| Office|\n",
      "|  0.0|[3900.0,102143.0,...|  0|3900.0|102143.0|118742.0|HomeImp| Office|\n",
      "|  0.0|[4200.0,50216.0,5...|  0|4200.0| 50216.0| 58541.0|HomeImp| Office|\n",
      "|  0.0|[4200.0,56544.0,5...|  0|4200.0| 56544.0| 59218.0|HomeImp| Office|\n",
      "|  0.0|[4300.0,68815.0,7...|  0|4300.0| 68815.0| 79852.0|HomeImp|  Other|\n",
      "|  0.0|[4300.0,71206.0,7...|  0|4300.0| 71206.0| 78698.0|DebtCon|  Sales|\n",
      "|  0.0|[4300.0,72021.0,8...|  0|4300.0| 72021.0| 80027.0|HomeImp|  Other|\n",
      "|  0.0|[4400.0,53969.0,6...|  0|4400.0| 53969.0| 63869.0|DebtCon|ProfExe|\n",
      "|  0.0|[4500.0,66127.0,7...|  0|4500.0| 66127.0| 79087.0|HomeImp|  Other|\n",
      "|  0.0|[4500.0,71082.0,7...|  0|4500.0| 71082.0| 79247.0|HomeImp|  Other|\n",
      "|  0.0|[4800.0,56067.0,6...|  0|4800.0| 56067.0| 63102.0|DebtCon|ProfExe|\n",
      "|  0.0|[4900.0,57461.0,6...|  0|4900.0| 57461.0| 68494.0|DebtCon|ProfExe|\n",
      "|  0.0|[4900.0,58688.0,6...|  0|4900.0| 58688.0| 63348.0|DebtCon|ProfExe|\n",
      "|  0.0|[4900.0,67794.0,8...|  0|4900.0| 67794.0| 84630.0|HomeImp|  Other|\n",
      "+-----+--------------------+---+------+--------+--------+-------+-------+\n",
      "only showing top 20 rows\n",
      "\n",
      "+----+-----+------+-----------+----+----+-----------+\n",
      "| YOJ|DEROG|DELINQ|      CLAGE|NINQ|CLNO|    DEBTINC|\n",
      "+----+-----+------+-----------+----+----+-----------+\n",
      "| 4.0|  0.0|   0.0|93.81177485| 0.0|13.0|29.68182705|\n",
      "| 1.0|  0.0|   0.0|96.10232967| 0.0|13.0|30.05113629|\n",
      "| 2.0|  0.0|   0.0|101.5402975| 0.0|13.0|29.91585903|\n",
      "| 2.0|  0.0|   0.0|85.88437189| 0.0|14.0|32.05978327|\n",
      "|20.0|  0.0|   0.0|204.2724988| 0.0|20.0|20.47091551|\n",
      "| 6.0|  0.0|   0.0|88.47045213| 0.0|14.0|29.39354338|\n",
      "|20.0|  0.0|   0.0|203.7515336| 0.0|20.0|20.06704205|\n",
      "| 2.0|  0.0|   0.0|85.27736558| 0.0|13.0|29.34392109|\n",
      "|19.0|  0.0|   0.0|209.8713022| 0.0|19.0|20.20803267|\n",
      "|19.0|  0.0|   0.0|211.0025991| 1.0|20.0|19.02770442|\n",
      "| 6.0|  0.0|   0.0|105.1207088| 0.0|14.0|41.80637615|\n",
      "| 3.0|  0.0|   0.0| 129.932869| 0.0|31.0|34.18137652|\n",
      "| 2.0|  2.0|   0.0|263.9703003| 0.0| 5.0|36.43209394|\n",
      "| 7.0|  0.0|   3.0|162.3900107| 0.0|30.0|23.58107924|\n",
      "| 4.0|  1.0|   0.0| 81.3490651| 0.0|15.0|40.70530876|\n",
      "| 4.0|  0.0|   0.0|118.7604101| 0.0|14.0|41.42111052|\n",
      "| 9.0|  0.0|   3.0|160.1463113| 1.0|30.0|21.58376012|\n",
      "| 8.0|  0.0|   4.0|183.6356132| 0.0|30.0|22.79542355|\n",
      "| 9.0|  0.0|   3.0|179.1625747| 2.0|31.0|22.54439284|\n",
      "| 4.0|  0.0|   0.0|112.5734189| 0.0|15.0|41.67399636|\n",
      "+----+-----+------+-----------+----+----+-----------+\n",
      "only showing top 20 rows\n",
      "\n",
      "2335 - Training Row Count\n",
      "1029 - Validation Row Count\n",
      "5960 - Total Row Count\n"
     ]
    }
   ],
   "source": [
    "(HMEQ_train, HMEQ_valid) = HMEQ_prepped.randomSplit([.7,.3], seed=240)\n",
    "HMEQ_train[HMEQ_train.columns[0:8]].show()\n",
    "HMEQ_train[HMEQ_train.columns[8:len(HMEQ_train.columns)]].show()\n",
    "print HMEQ_train.count(), '- Training Row Count'\n",
    "print HMEQ_valid.count(), '- Validation Row Count'\n",
    "print HMEQ.count(), '- Total Row Count'"
   ]
  },
  {
   "cell_type": "markdown",
   "metadata": {},
   "source": [
    "### Random Forest Model"
   ]
  },
  {
   "cell_type": "code",
   "execution_count": 29,
   "metadata": {},
   "outputs": [
    {
     "name": "stdout",
     "output_type": "stream",
     "text": [
      "0.924544127025\n",
      "0.885934250697\n"
     ]
    }
   ],
   "source": [
    "#label is target\n",
    "#create Model\n",
    "forest = RandomForestClassifier(labelCol=\"label\", featuresCol='features_indep_var', maxDepth=7)\n",
    "\n",
    "#Train Data\n",
    "forestModel = forest.fit(HMEQ_train)\n",
    "\n",
    "#Predict on training and validation\n",
    "train_pred = forestModel.transform(HMEQ_train)\n",
    "valid_pred = forestModel.transform(HMEQ_valid)\n",
    "\n",
    "#AUC\n",
    "AUC = BinaryClassificationEvaluator()\n",
    "print AUC.evaluate(train_pred), ' Train AUC'\n",
    "print AUC.evaluate(valid_pred), ' Validation AUC'"
   ]
  }
 ],
 "metadata": {
  "kernelspec": {
   "display_name": "Apache Toree - PySpark",
   "language": "python",
   "name": "apache_toree_pyspark"
  },
  "language_info": {
   "file_extension": ".py",
   "name": "python",
   "pygments_lexer": "python",
   "version": "2.7.12\n"
  }
 },
 "nbformat": 4,
 "nbformat_minor": 2
}
